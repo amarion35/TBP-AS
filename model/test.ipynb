{
 "cells": [
  {
   "cell_type": "code",
   "execution_count": 1,
   "metadata": {},
   "outputs": [],
   "source": [
    "import numpy as np\n",
    "\n",
    "from Configuration import Configuration\n",
    "from Oracle import Oracle\n",
    "#from Model import TBP_AS_model\n",
    "\n",
    "filename = \"../UD_French-GSD/UD_French-GSD/fr_gsd-ud-train.conllu\"\n",
    "#filename = \"../UD_French-GSD/UD_French-GSD/test.conllu\"\n",
    "\n",
    "oracle = Oracle(filename)\n",
    "oracle.search_transitions()"
   ]
  },
  {
   "cell_type": "code",
   "execution_count": 2,
   "metadata": {},
   "outputs": [
    {
     "name": "stderr",
     "output_type": "stream",
     "text": [
      "Using TensorFlow backend.\n"
     ]
    },
    {
     "data": {
      "text/plain": [
       "((621719, 10), (621719, 3))"
      ]
     },
     "execution_count": 2,
     "metadata": {},
     "output_type": "execute_result"
    }
   ],
   "source": [
    "x = np.array(oracle.features)\n",
    "y = np.array(oracle.transitions)\n",
    "\n",
    "y = np.array([k['transition']for k in y])\n",
    "#shift:0, right:1, left:2\n",
    "new_y = []\n",
    "for i in range(len(y)):\n",
    "    if y[i]=='shift':\n",
    "        new_y.append([1,0,0])\n",
    "    elif y[i]=='right':\n",
    "        new_y.append([0,1,0])\n",
    "    elif y[i]=='left':\n",
    "        new_y.append([0,0,1])\n",
    "        \n",
    "y = np.array(new_y)\n",
    "x.shape, y.shape"
   ]
  },
  {
   "cell_type": "code",
   "execution_count": 13,
   "metadata": {},
   "outputs": [
    {
     "name": "stdout",
     "output_type": "stream",
     "text": [
      "7.1967175006866455\n"
     ]
    }
   ],
   "source": [
    "import time\n",
    "t = time.time()\n",
    "vocs, inverses = zip(*(np.unique(feature, return_inverse=True) for feature in x.T))\n",
    "x_new = np.vstack(inverses).T\n",
    "print(time.time()-t)"
   ]
  },
  {
   "cell_type": "code",
   "execution_count": 3,
   "metadata": {},
   "outputs": [],
   "source": [
    "vocs = [np.array(list(set(x[:,i]))) for i in range(np.shape(x)[1])]\n",
    "x_new = [[np.argwhere(vocs[j]==x[i,j]) for j,feature in enumerate(features)] for i,features in enumerate(x)]"
   ]
  },
  {
   "cell_type": "code",
   "execution_count": 4,
   "metadata": {},
   "outputs": [],
   "source": [
    "x_new = np.squeeze(x_new)"
   ]
  },
  {
   "cell_type": "code",
   "execution_count": 5,
   "metadata": {},
   "outputs": [
    {
     "data": {
      "text/plain": [
       "(621719, 10)"
      ]
     },
     "execution_count": 5,
     "metadata": {},
     "output_type": "execute_result"
    }
   ],
   "source": [
    "np.shape(x_new)"
   ]
  },
  {
   "cell_type": "code",
   "execution_count": 6,
   "metadata": {},
   "outputs": [
    {
     "name": "stdout",
     "output_type": "stream",
     "text": [
      "__________________________________________________________________________________________________\n",
      "Layer (type)                    Output Shape         Param #     Connected to                     \n",
      "==================================================================================================\n",
      "input_1 (InputLayer)            (None, 1)            0                                            \n",
      "__________________________________________________________________________________________________\n",
      "input_2 (InputLayer)            (None, 1)            0                                            \n",
      "__________________________________________________________________________________________________\n",
      "input_3 (InputLayer)            (None, 1)            0                                            \n",
      "__________________________________________________________________________________________________\n",
      "input_4 (InputLayer)            (None, 1)            0                                            \n",
      "__________________________________________________________________________________________________\n",
      "input_5 (InputLayer)            (None, 1)            0                                            \n",
      "__________________________________________________________________________________________________\n",
      "input_6 (InputLayer)            (None, 1)            0                                            \n",
      "__________________________________________________________________________________________________\n",
      "input_7 (InputLayer)            (None, 1)            0                                            \n",
      "__________________________________________________________________________________________________\n",
      "input_8 (InputLayer)            (None, 1)            0                                            \n",
      "__________________________________________________________________________________________________\n",
      "input_9 (InputLayer)            (None, 1)            0                                            \n",
      "__________________________________________________________________________________________________\n",
      "input_10 (InputLayer)           (None, 1)            0                                            \n",
      "__________________________________________________________________________________________________\n",
      "embedding_1 (Embedding)         (None, 1, 18)        324         input_1[0][0]                    \n",
      "__________________________________________________________________________________________________\n",
      "embedding_2 (Embedding)         (None, 1, 32)        599360      input_2[0][0]                    \n",
      "__________________________________________________________________________________________________\n",
      "embedding_3 (Embedding)         (None, 1, 32)        4256        input_3[0][0]                    \n",
      "__________________________________________________________________________________________________\n",
      "embedding_4 (Embedding)         (None, 1, 19)        361         input_4[0][0]                    \n",
      "__________________________________________________________________________________________________\n",
      "embedding_5 (Embedding)         (None, 1, 17)        289         input_5[0][0]                    \n",
      "__________________________________________________________________________________________________\n",
      "embedding_6 (Embedding)         (None, 1, 32)        1024608     input_6[0][0]                    \n",
      "__________________________________________________________________________________________________\n",
      "embedding_7 (Embedding)         (None, 1, 32)        4544        input_7[0][0]                    \n",
      "__________________________________________________________________________________________________\n",
      "embedding_8 (Embedding)         (None, 1, 18)        324         input_8[0][0]                    \n",
      "__________________________________________________________________________________________________\n",
      "embedding_9 (Embedding)         (None, 1, 18)        324         input_9[0][0]                    \n",
      "__________________________________________________________________________________________________\n",
      "embedding_10 (Embedding)        (None, 1, 32)        4448        input_10[0][0]                   \n",
      "__________________________________________________________________________________________________\n",
      "flatten_1 (Flatten)             (None, 18)           0           embedding_1[0][0]                \n",
      "__________________________________________________________________________________________________\n",
      "flatten_2 (Flatten)             (None, 32)           0           embedding_2[0][0]                \n",
      "__________________________________________________________________________________________________\n",
      "flatten_3 (Flatten)             (None, 32)           0           embedding_3[0][0]                \n",
      "__________________________________________________________________________________________________\n",
      "flatten_4 (Flatten)             (None, 19)           0           embedding_4[0][0]                \n",
      "__________________________________________________________________________________________________\n",
      "flatten_5 (Flatten)             (None, 17)           0           embedding_5[0][0]                \n",
      "__________________________________________________________________________________________________\n",
      "flatten_6 (Flatten)             (None, 32)           0           embedding_6[0][0]                \n",
      "__________________________________________________________________________________________________\n",
      "flatten_7 (Flatten)             (None, 32)           0           embedding_7[0][0]                \n",
      "__________________________________________________________________________________________________\n",
      "flatten_8 (Flatten)             (None, 18)           0           embedding_8[0][0]                \n",
      "__________________________________________________________________________________________________\n",
      "flatten_9 (Flatten)             (None, 18)           0           embedding_9[0][0]                \n",
      "__________________________________________________________________________________________________\n",
      "flatten_10 (Flatten)            (None, 32)           0           embedding_10[0][0]               \n",
      "__________________________________________________________________________________________________\n",
      "concatenate_1 (Concatenate)     (None, 250)          0           flatten_1[0][0]                  \n",
      "                                                                 flatten_2[0][0]                  \n",
      "                                                                 flatten_3[0][0]                  \n",
      "                                                                 flatten_4[0][0]                  \n",
      "                                                                 flatten_5[0][0]                  \n",
      "                                                                 flatten_6[0][0]                  \n",
      "                                                                 flatten_7[0][0]                  \n",
      "                                                                 flatten_8[0][0]                  \n",
      "                                                                 flatten_9[0][0]                  \n",
      "                                                                 flatten_10[0][0]                 \n",
      "__________________________________________________________________________________________________\n",
      "sequential_1 (Sequential)       (None, 8)            125078      concatenate_1[0][0]              \n",
      "__________________________________________________________________________________________________\n",
      "dense_9 (Dense)                 (None, 3)            27          sequential_1[1][0]               \n",
      "==================================================================================================\n",
      "Total params: 1,763,943\n",
      "Trainable params: 1,763,127\n",
      "Non-trainable params: 816\n",
      "__________________________________________________________________________________________________\n"
     ]
    }
   ],
   "source": [
    "from keras.models import Sequential, Model\n",
    "from keras.layers import Dense, Embedding, Flatten, Input, Dropout, BatchNormalization, Input, Concatenate\n",
    "from keras.optimizers import Adam\n",
    "\n",
    "def build_model(vocs):\n",
    "    n_features = len(vocs)\n",
    "    embedding_size_max = 32\n",
    "    \n",
    "    input_features = [Input(shape=(1,)) for _ in range(n_features)]\n",
    "    features = [Embedding(len(vocs[i]), min(embedding_size_max, len(vocs[i])))(f) for i,f in enumerate(input_features)]\n",
    "    features = [Flatten()(f) for i,f in enumerate(features)]\n",
    "    features = Concatenate()(features)\n",
    "    \n",
    "    input_shape = np.sum([min(embedding_size_max, len(vocs[i])) for i,f in enumerate(input_features)])\n",
    "    \n",
    "    model = Sequential()\n",
    "    model.add(Dense(input_shape, input_shape=(input_shape,), activation='relu'))\n",
    "    model.add(Dense(128, activation='relu'))\n",
    "    model.add(BatchNormalization())\n",
    "    model.add(Dropout(0.4))\n",
    "    model.add(Dense(128, activation='relu'))\n",
    "    model.add(BatchNormalization())\n",
    "    model.add(Dropout(0.4))\n",
    "    model.add(Dense(64, activation='relu'))\n",
    "    model.add(BatchNormalization())\n",
    "    model.add(Dropout(0.4))\n",
    "    model.add(Dense(32, activation='relu'))\n",
    "    model.add(BatchNormalization())\n",
    "    model.add(Dropout(0.4))\n",
    "    model.add(Dense(32, activation='relu'))\n",
    "    model.add(BatchNormalization())\n",
    "    model.add(Dropout(0.4))\n",
    "    model.add(Dense(16, activation='relu'))\n",
    "    model.add(BatchNormalization())\n",
    "    model.add(Dropout(0.4))\n",
    "    model.add(Dense(8, activation='relu'))\n",
    "    model.add(BatchNormalization())\n",
    "\n",
    "    output = model(features)\n",
    "\n",
    "    transition = Dense(3, activation=\"tanh\")(output)\n",
    "\n",
    "    classifier =  Model(input_features, transition)\n",
    "    optimizer = Adam(lr=0.0001)\n",
    "    losses = ['categorical_crossentropy']\n",
    "    classifier.compile(loss=losses,\n",
    "                optimizer='adam',\n",
    "                metrics=['accuracy'])\n",
    "\n",
    "    classifier.summary()\n",
    "    return classifier\n",
    "\n",
    "classifier = build_model(vocs=vocs)"
   ]
  },
  {
   "cell_type": "code",
   "execution_count": 6,
   "metadata": {},
   "outputs": [],
   "source": [
    "from sklearn.model_selection import train_test_split\n",
    "\n",
    "X_train, X_test, y_train, y_test = train_test_split(x_new, y, test_size=0.2, random_state=42)"
   ]
  },
  {
   "cell_type": "code",
   "execution_count": 7,
   "metadata": {},
   "outputs": [
    {
     "data": {
      "text/plain": [
       "[[4, 4, 5, 5, 12, 11, 1, 12, 4, 10],\n",
       " [5310, 5310, 3431, 11593, 15039, 2857, 1832, 1654, 9903, 12901],\n",
       " [0, 0, 108, 5, 113, 65, 0, 42, 0, 34],\n",
       " [14, 14, 5, 12, 14, 10, 18, 16, 18, 7],\n",
       " [9, 13, 11, 5, 4, 5, 5, 12, 10, 11],\n",
       " [21424, 26933, 11408, 5891, 11227, 5327, 25398, 22956, 24749, 26067],\n",
       " [0, 0, 46, 7, 0, 128, 97, 7, 104, 46],\n",
       " [1, 16, 16, 4, 5, 9, 8, 11, 12, 4],\n",
       " [12, 9, 9, 9, 9, 9, 12, 5, 9, 10],\n",
       " [29, 63, 108, 33, 108, 94, 29, 63, 93, 29]]"
      ]
     },
     "execution_count": 7,
     "metadata": {},
     "output_type": "execute_result"
    }
   ],
   "source": [
    "X_train[:10].T.tolist()"
   ]
  },
  {
   "cell_type": "code",
   "execution_count": 9,
   "metadata": {},
   "outputs": [],
   "source": [
    "import matplotlib.pyplot as plt\n",
    "def plot_hist(hist):\n",
    "    \n",
    "    plt.figure(figsize=(15,5))\n",
    "    \n",
    "    plt.subplot(1,2,1)\n",
    "    plt.title('Loss')\n",
    "    plt.plot(hist.history['loss'], label='train')\n",
    "    plt.plot(hist.history['val_loss'], label='valid')\n",
    "    plt.yscale('log')\n",
    "    plt.ylabel('categorical_crossentropy')\n",
    "    plt.xlabel('epoch')\n",
    "    plt.grid(which='both')\n",
    "    plt.legend()\n",
    "    \n",
    "    plt.subplot(1,2,2)\n",
    "    plt.title('Accuracy')\n",
    "    plt.plot(hist.history['acc'], label='train')\n",
    "    plt.plot(hist.history['val_acc'], label='valid')\n",
    "    plt.yscale('log')\n",
    "    plt.ylabel('accuracy')\n",
    "    plt.xlabel('epoch')\n",
    "    plt.grid(which='both')\n",
    "    plt.legend()\n",
    "    \n",
    "    plt.show()"
   ]
  },
  {
   "cell_type": "code",
   "execution_count": 12,
   "metadata": {},
   "outputs": [],
   "source": [
    "def train_classif(classifier, X_train, y_train, X_test, y_test, batch_size=1024, epochs=10):\n",
    "    hist = classifier.fit(\n",
    "        X_train.T.tolist(),\n",
    "        y_train,\n",
    "        batch_size=batch_size,\n",
    "        epochs=epochs,\n",
    "        verbose=1,\n",
    "        validation_data=(X_test.T.tolist(), y_test)\n",
    "    )\n",
    "    plot_hist(hist)"
   ]
  },
  {
   "cell_type": "code",
   "execution_count": 8,
   "metadata": {},
   "outputs": [],
   "source": [
    "from sklearn.model_selection import cross_val_score\n",
    "from sklearn.tree import DecisionTreeClassifier\n",
    "clf = DecisionTreeClassifier(random_state=0)\n",
    "\n",
    "#clf.fit(X_train, y_train)\n",
    "#clf.score(X_test, y_test)\n",
    "\n",
    "res = cross_val_score(clf, X_train, y_train, cv=10, n_jobs=8)"
   ]
  },
  {
   "cell_type": "code",
   "execution_count": 9,
   "metadata": {},
   "outputs": [
    {
     "data": {
      "text/plain": [
       "array([0.88535928, 0.8850376 , 0.88700792, 0.88622381, 0.88423338,\n",
       "       0.88561835, 0.88768925, 0.88175805, 0.88811147, 0.88535698])"
      ]
     },
     "execution_count": 9,
     "metadata": {},
     "output_type": "execute_result"
    }
   ],
   "source": [
    "res"
   ]
  },
  {
   "cell_type": "code",
   "execution_count": 10,
   "metadata": {},
   "outputs": [
    {
     "data": {
      "text/plain": [
       "0.8868944219262691"
      ]
     },
     "execution_count": 10,
     "metadata": {},
     "output_type": "execute_result"
    }
   ],
   "source": [
    "clf.fit(X_train, y_train)\n",
    "clf.score(X_test, y_test)"
   ]
  },
  {
   "cell_type": "code",
   "execution_count": 24,
   "metadata": {},
   "outputs": [
    {
     "data": {
      "text/plain": [
       "((464151, 10), (464151, 3))"
      ]
     },
     "execution_count": 24,
     "metadata": {},
     "output_type": "execute_result"
    }
   ],
   "source": [
    "X_train.shape, y_train.shape"
   ]
  },
  {
   "cell_type": "code",
   "execution_count": 11,
   "metadata": {},
   "outputs": [
    {
     "name": "stdout",
     "output_type": "stream",
     "text": [
      "Train on 464151 samples, validate on 228612 samples\n",
      "Epoch 1/10\n",
      "464151/464151 [==============================] - 20s 43us/step - loss: 3.2132 - acc: 0.3263 - val_loss: 1.3624 - val_acc: 0.2256\n",
      "Epoch 2/10\n",
      "464151/464151 [==============================] - 12s 26us/step - loss: 2.2454 - acc: 0.3012 - val_loss: 1.4883 - val_acc: 0.3105\n",
      "Epoch 3/10\n",
      "464151/464151 [==============================] - 11s 24us/step - loss: 1.9352 - acc: 0.3005 - val_loss: 1.2873 - val_acc: 0.2593\n",
      "Epoch 4/10\n",
      "464151/464151 [==============================] - 12s 25us/step - loss: 1.7622 - acc: 0.3043 - val_loss: 1.2710 - val_acc: 0.3068\n",
      "Epoch 5/10\n",
      "464151/464151 [==============================] - 14s 30us/step - loss: 1.5668 - acc: 0.3142 - val_loss: 1.2400 - val_acc: 0.2721\n",
      "Epoch 6/10\n",
      "464151/464151 [==============================] - 10s 23us/step - loss: 1.5165 - acc: 0.3045 - val_loss: 1.1001 - val_acc: 0.2358 - loss: 1.5092 - - ET - ETA: 4s - loss: 1.5204 - acc: 0.30 - ETA: 1s - loss: 1.5166 - a - ETA: 1s - loss: 1\n",
      "Epoch 7/10\n",
      "464151/464151 [==============================] - 11s 23us/step - loss: 1.4615 - acc: 0.3096 - val_loss: 1.3013 - val_acc: 0.2994\n",
      "Epoch 8/10\n",
      "464151/464151 [==============================] - 11s 23us/step - loss: 1.4212 - acc: 0.3082 - val_loss: 1.3245 - val_acc: 0.3420 ETA:  - ETA: 0s - loss: 1.4244\n",
      "Epoch 9/10\n",
      "464151/464151 [==============================] - 11s 23us/step - loss: 1.3718 - acc: 0.3015 - val_loss: 1.1500 - val_acc: 0.2430: - ETA: 0s - loss: 1.3732 -\n",
      "Epoch 10/10\n",
      "464151/464151 [==============================] - 17s 36us/step - loss: 1.3288 - acc: 0.2928 - val_loss: 1.2445 - val_acc: 0.2824\n"
     ]
    },
    {
     "ename": "NameError",
     "evalue": "name 'hist1' is not defined",
     "output_type": "error",
     "traceback": [
      "\u001b[1;31m---------------------------------------------------------------------------\u001b[0m",
      "\u001b[1;31mNameError\u001b[0m                                 Traceback (most recent call last)",
      "\u001b[1;32m<ipython-input-11-2ad6679bfcc7>\u001b[0m in \u001b[0;36m<module>\u001b[1;34m()\u001b[0m\n\u001b[1;32m----> 1\u001b[1;33m \u001b[0mtrain_classif\u001b[0m\u001b[1;33m(\u001b[0m\u001b[0mclassifier\u001b[0m\u001b[1;33m,\u001b[0m \u001b[0mX_train\u001b[0m\u001b[1;33m,\u001b[0m \u001b[0my_train\u001b[0m\u001b[1;33m,\u001b[0m \u001b[0mX_test\u001b[0m\u001b[1;33m,\u001b[0m \u001b[0my_test\u001b[0m\u001b[1;33m,\u001b[0m \u001b[0mbatch_size\u001b[0m\u001b[1;33m=\u001b[0m\u001b[1;36m1024\u001b[0m\u001b[1;33m,\u001b[0m \u001b[0mepochs\u001b[0m\u001b[1;33m=\u001b[0m\u001b[1;36m10\u001b[0m\u001b[1;33m)\u001b[0m\u001b[1;33m\u001b[0m\u001b[0m\n\u001b[0m",
      "\u001b[1;32m<ipython-input-10-b9bac4fd283c>\u001b[0m in \u001b[0;36mtrain_classif\u001b[1;34m(classifier, X_train, y_train, X_test, y_test, batch_size, epochs)\u001b[0m\n\u001b[0;32m      8\u001b[0m         \u001b[0mvalidation_data\u001b[0m\u001b[1;33m=\u001b[0m\u001b[1;33m(\u001b[0m\u001b[0mX_test\u001b[0m\u001b[1;33m.\u001b[0m\u001b[0mT\u001b[0m\u001b[1;33m.\u001b[0m\u001b[0mtolist\u001b[0m\u001b[1;33m(\u001b[0m\u001b[1;33m)\u001b[0m\u001b[1;33m,\u001b[0m \u001b[0my_test\u001b[0m\u001b[1;33m)\u001b[0m\u001b[1;33m\u001b[0m\u001b[0m\n\u001b[0;32m      9\u001b[0m     )\n\u001b[1;32m---> 10\u001b[1;33m     \u001b[0mplot_hist\u001b[0m\u001b[1;33m(\u001b[0m\u001b[0mhist1\u001b[0m\u001b[1;33m)\u001b[0m\u001b[1;33m\u001b[0m\u001b[0m\n\u001b[0m",
      "\u001b[1;31mNameError\u001b[0m: name 'hist1' is not defined"
     ]
    }
   ],
   "source": [
    "train_classif(classifier, X_train, y_train, X_test, y_test, batch_size=1024, epochs=10)"
   ]
  },
  {
   "cell_type": "code",
   "execution_count": null,
   "metadata": {},
   "outputs": [],
   "source": [
    "train_classif(classifier, X_train, y_train, X_test, y_test, batch_size=1024, epochs=10)"
   ]
  },
  {
   "cell_type": "code",
   "execution_count": null,
   "metadata": {},
   "outputs": [],
   "source": [
    "train_classif(classifier, X_train, y_train, X_test, y_test, batch_size=512, epochs=10)"
   ]
  },
  {
   "cell_type": "code",
   "execution_count": null,
   "metadata": {},
   "outputs": [],
   "source": [
    "train_classif(classifier, X_train, y_train, X_test, y_test, batch_size=256, epochs=10)"
   ]
  },
  {
   "cell_type": "code",
   "execution_count": null,
   "metadata": {},
   "outputs": [],
   "source": [
    "train_classif(classifier, X_train, y_train, X_test, y_test, batch_size=128, epochs=10)"
   ]
  },
  {
   "cell_type": "code",
   "execution_count": null,
   "metadata": {
    "scrolled": false
   },
   "outputs": [],
   "source": [
    "train_classif(classifier, X_train, y_train, X_test, y_test, batch_size=64, epochs=10)"
   ]
  },
  {
   "cell_type": "code",
   "execution_count": null,
   "metadata": {},
   "outputs": [],
   "source": [
    "hist4 = classifier.fit(X_train.T.tolist(), y_train, batch_size=512, epochs=10, verbose=1, validation_data=(X_test.T.tolist(), y_test), shuffle=True)"
   ]
  },
  {
   "cell_type": "code",
   "execution_count": null,
   "metadata": {},
   "outputs": [],
   "source": [
    "plot_hist(hist4)"
   ]
  },
  {
   "cell_type": "code",
   "execution_count": null,
   "metadata": {},
   "outputs": [],
   "source": []
  }
 ],
 "metadata": {
  "kernelspec": {
   "display_name": "Python 3",
   "language": "python",
   "name": "python3"
  },
  "language_info": {
   "codemirror_mode": {
    "name": "ipython",
    "version": 3
   },
   "file_extension": ".py",
   "mimetype": "text/x-python",
   "name": "python",
   "nbconvert_exporter": "python",
   "pygments_lexer": "ipython3",
   "version": "3.6.6"
  }
 },
 "nbformat": 4,
 "nbformat_minor": 2
}
